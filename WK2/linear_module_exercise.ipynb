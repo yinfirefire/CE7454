{
 "cells": [
  {
   "cell_type": "markdown",
   "metadata": {},
   "source": [
    "# Lab 05: Linear module -- exercise\n",
    "\n",
    "# Inspecting a linear module"
   ]
  },
  {
   "cell_type": "code",
   "execution_count": 1,
   "metadata": {},
   "outputs": [],
   "source": [
    "import torch\n",
    "import torch.nn as nn"
   ]
  },
  {
   "cell_type": "markdown",
   "metadata": {},
   "source": [
    "### Make a linear module  WITHOUT bias that takes input of size 2 and return output of size 3. "
   ]
  },
  {
   "cell_type": "code",
   "execution_count": 2,
   "metadata": {},
   "outputs": [
    {
     "name": "stdout",
     "output_type": "stream",
     "text": [
      "Linear(in_features=2, out_features=3, bias=False)\n"
     ]
    }
   ],
   "source": [
    "mod= nn.Linear(2,3,bias=False)    # complete here\n",
    "print(mod)"
   ]
  },
  {
   "cell_type": "markdown",
   "metadata": {},
   "source": [
    "### Print the internal parameters of the module. Try to print the bias and double check that it return you \"None\""
   ]
  },
  {
   "cell_type": "code",
   "execution_count": 11,
   "metadata": {},
   "outputs": [
    {
     "name": "stdout",
     "output_type": "stream",
     "text": [
      "None\n",
      "Parameter containing:\n",
      "tensor([[-0.1970,  0.3379],\n",
      "        [-0.4164,  0.4822],\n",
      "        [-0.4657,  0.1147]], requires_grad=True)\n"
     ]
    }
   ],
   "source": [
    "print(mod.bias)\n",
    "print(mod.weight)"
   ]
  },
  {
   "cell_type": "markdown",
   "metadata": {},
   "source": [
    "### Make a vector $x=\\begin{bmatrix}1\\\\1 \\end{bmatrix}$ and feed it to your linear module. What is the output?"
   ]
  },
  {
   "cell_type": "code",
   "execution_count": 15,
   "metadata": {},
   "outputs": [
    {
     "name": "stdout",
     "output_type": "stream",
     "text": [
      "tensor([1., 1.])\n",
      "tensor([ 3.,  7., 11.], grad_fn=<SqueezeBackward3>)\n"
     ]
    }
   ],
   "source": [
    "x=  torch.Tensor([1,1]) \n",
    "print(x)\n",
    "y=  mod(x)\n",
    "print(y)"
   ]
  },
  {
   "cell_type": "markdown",
   "metadata": {},
   "source": [
    "### Change the internal parameters of your module so that the weights become $\n",
    "W=\\begin{bmatrix}\n",
    "1&2 \\\\ 3&4 \\\\ 5&6\n",
    "\\end{bmatrix}\n",
    "$. You need to write 6 lines, one per entry to be changed."
   ]
  },
  {
   "cell_type": "code",
   "execution_count": 12,
   "metadata": {},
   "outputs": [
    {
     "name": "stdout",
     "output_type": "stream",
     "text": [
      "Parameter containing:\n",
      "tensor([[1., 2.],\n",
      "        [3., 4.],\n",
      "        [5., 6.]], grad_fn=<CopySlices>)\n"
     ]
    }
   ],
   "source": [
    "mod.weight[0,0]=1\n",
    "mod.weight[0,1]=2\n",
    "mod.weight[1,0]=3\n",
    "mod.weight[1,1]=4\n",
    "mod.weight[2,0]=5\n",
    "mod.weight[2,1]=6\n",
    "print(mod.weight)"
   ]
  },
  {
   "cell_type": "markdown",
   "metadata": {},
   "source": [
    "### Feed the vector x to your module with updated parameters. What is the output? "
   ]
  },
  {
   "cell_type": "code",
   "execution_count": 13,
   "metadata": {},
   "outputs": [
    {
     "name": "stdout",
     "output_type": "stream",
     "text": [
      "tensor([ 3.,  7., 11.], grad_fn=<SqueezeBackward3>)\n"
     ]
    }
   ],
   "source": [
    "y=  mod(x)\n",
    "print(y)"
   ]
  },
  {
   "cell_type": "markdown",
   "metadata": {},
   "source": [
    "### Compute by hand $y=Wx$ and check that pytorch got it correctly. \n",
    "\n",
    "$$\n",
    "\\begin{bmatrix}\n",
    "1&2 \\\\ 3&4 \\\\ 5&6\n",
    "\\end{bmatrix}\n",
    "\\begin{bmatrix}1\\\\1 \\end{bmatrix}=\n",
    "\\begin{bmatrix}?\\\\? \\\\ ? \\end{bmatrix}\n",
    "$$"
   ]
  },
  {
   "cell_type": "code",
   "execution_count": null,
   "metadata": {},
   "outputs": [],
   "source": []
  }
 ],
 "metadata": {
  "kernelspec": {
   "display_name": "Python 3",
   "language": "python",
   "name": "python3"
  },
  "language_info": {
   "codemirror_mode": {
    "name": "ipython",
    "version": 3
   },
   "file_extension": ".py",
   "mimetype": "text/x-python",
   "name": "python",
   "nbconvert_exporter": "python",
   "pygments_lexer": "ipython3",
   "version": "3.6.6"
  }
 },
 "nbformat": 4,
 "nbformat_minor": 2
}
